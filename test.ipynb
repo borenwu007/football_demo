{
 "nbformat": 4,
 "nbformat_minor": 2,
 "metadata": {
  "language_info": {
   "name": "python",
   "codemirror_mode": {
    "name": "ipython",
    "version": 3
   },
   "version": "3.7.4"
  },
  "orig_nbformat": 2,
  "file_extension": ".py",
  "mimetype": "text/x-python",
  "name": "python",
  "npconvert_exporter": "python",
  "pygments_lexer": "ipython3",
  "version": 3
 },
 "cells": [
  {
   "cell_type": "code",
   "execution_count": 2,
   "metadata": {},
   "outputs": [],
   "source": [
    "import pandas as pd"
   ]
  },
  {
   "cell_type": "code",
   "execution_count": 3,
   "metadata": {},
   "outputs": [],
   "source": [
    "all_df = pd.read_csv(\"data/EPL2019_2020.csv\")"
   ]
  },
  {
   "cell_type": "code",
   "execution_count": 4,
   "metadata": {},
   "outputs": [
    {
     "data": {
      "text/html": "<div>\n<style scoped>\n    .dataframe tbody tr th:only-of-type {\n        vertical-align: middle;\n    }\n\n    .dataframe tbody tr th {\n        vertical-align: top;\n    }\n\n    .dataframe thead th {\n        text-align: right;\n    }\n</style>\n<table border=\"1\" class=\"dataframe\">\n  <thead>\n    <tr style=\"text-align: right;\">\n      <th></th>\n      <th>Div</th>\n      <th>Date</th>\n      <th>Time</th>\n      <th>HomeTeam</th>\n      <th>AwayTeam</th>\n      <th>FTHG</th>\n      <th>FTAG</th>\n      <th>FTR</th>\n      <th>HTHG</th>\n      <th>HTAG</th>\n      <th>...</th>\n      <th>AvgC&lt;2.5</th>\n      <th>AHCh</th>\n      <th>B365CAHH</th>\n      <th>B365CAHA</th>\n      <th>PCAHH</th>\n      <th>PCAHA</th>\n      <th>MaxCAHH</th>\n      <th>MaxCAHA</th>\n      <th>AvgCAHH</th>\n      <th>AvgCAHA</th>\n    </tr>\n  </thead>\n  <tbody>\n    <tr>\n      <td>0</td>\n      <td>E0</td>\n      <td>09/08/2019</td>\n      <td>20:00</td>\n      <td>Liverpool</td>\n      <td>Norwich</td>\n      <td>4</td>\n      <td>1</td>\n      <td>H</td>\n      <td>4</td>\n      <td>0</td>\n      <td>...</td>\n      <td>3.43</td>\n      <td>-2.25</td>\n      <td>1.91</td>\n      <td>1.99</td>\n      <td>1.94</td>\n      <td>1.98</td>\n      <td>1.99</td>\n      <td>2.07</td>\n      <td>1.90</td>\n      <td>1.99</td>\n    </tr>\n    <tr>\n      <td>1</td>\n      <td>E0</td>\n      <td>10/08/2019</td>\n      <td>12:30</td>\n      <td>West Ham</td>\n      <td>Man City</td>\n      <td>0</td>\n      <td>5</td>\n      <td>A</td>\n      <td>0</td>\n      <td>1</td>\n      <td>...</td>\n      <td>2.91</td>\n      <td>1.75</td>\n      <td>1.95</td>\n      <td>1.95</td>\n      <td>1.96</td>\n      <td>1.97</td>\n      <td>2.07</td>\n      <td>1.98</td>\n      <td>1.97</td>\n      <td>1.92</td>\n    </tr>\n  </tbody>\n</table>\n<p>2 rows × 106 columns</p>\n</div>",
      "text/plain": "  Div        Date   Time   HomeTeam  AwayTeam  FTHG  FTAG FTR  HTHG  HTAG  \\\n0  E0  09/08/2019  20:00  Liverpool   Norwich     4     1   H     4     0   \n1  E0  10/08/2019  12:30   West Ham  Man City     0     5   A     0     1   \n\n   ... AvgC<2.5  AHCh  B365CAHH  B365CAHA  PCAHH  PCAHA  MaxCAHH  MaxCAHA  \\\n0  ...     3.43 -2.25      1.91      1.99   1.94   1.98     1.99     2.07   \n1  ...     2.91  1.75      1.95      1.95   1.96   1.97     2.07     1.98   \n\n   AvgCAHH  AvgCAHA  \n0     1.90     1.99  \n1     1.97     1.92  \n\n[2 rows x 106 columns]"
     },
     "execution_count": 4,
     "metadata": {},
     "output_type": "execute_result"
    }
   ],
   "source": [
    "all_df[:2]"
   ]
  },
  {
   "cell_type": "code",
   "execution_count": 8,
   "metadata": {},
   "outputs": [],
   "source": [
    "cols = ['FTR','HomeTeam','AwayTeam','FTHG','FTAG','HS','AS','HST','AST','WHH','WHD','WHA','WHCH','WHCD','WHCA','AvgH','AvgD','AvgA','AvgCH','AvgCD','AvgCA','AHh','B365AHH','B365AHA','AHCh','B365CAHH','B365CAHA']"
   ]
  },
  {
   "cell_type": "code",
   "execution_count": 9,
   "metadata": {},
   "outputs": [],
   "source": [
    "need_df=all_df[cols]"
   ]
  },
  {
   "cell_type": "code",
   "execution_count": 10,
   "metadata": {},
   "outputs": [
    {
     "data": {
      "text/html": "<div>\n<style scoped>\n    .dataframe tbody tr th:only-of-type {\n        vertical-align: middle;\n    }\n\n    .dataframe tbody tr th {\n        vertical-align: top;\n    }\n\n    .dataframe thead th {\n        text-align: right;\n    }\n</style>\n<table border=\"1\" class=\"dataframe\">\n  <thead>\n    <tr style=\"text-align: right;\">\n      <th></th>\n      <th>FTR</th>\n      <th>HomeTeam</th>\n      <th>AwayTeam</th>\n      <th>FTHG</th>\n      <th>FTAG</th>\n      <th>HS</th>\n      <th>AS</th>\n      <th>HST</th>\n      <th>AST</th>\n      <th>WHH</th>\n      <th>...</th>\n      <th>AvgA</th>\n      <th>AvgCH</th>\n      <th>AvgCD</th>\n      <th>AvgCA</th>\n      <th>AHh</th>\n      <th>B365AHH</th>\n      <th>B365AHA</th>\n      <th>AHCh</th>\n      <th>B365CAHH</th>\n      <th>B365CAHA</th>\n    </tr>\n  </thead>\n  <tbody>\n    <tr>\n      <td>0</td>\n      <td>H</td>\n      <td>Liverpool</td>\n      <td>Norwich</td>\n      <td>4</td>\n      <td>1</td>\n      <td>15</td>\n      <td>12</td>\n      <td>7</td>\n      <td>5</td>\n      <td>1.12</td>\n      <td>...</td>\n      <td>19.83</td>\n      <td>1.14</td>\n      <td>9.52</td>\n      <td>19.18</td>\n      <td>-2.25</td>\n      <td>1.96</td>\n      <td>1.94</td>\n      <td>-2.25</td>\n      <td>1.91</td>\n      <td>1.99</td>\n    </tr>\n    <tr>\n      <td>1</td>\n      <td>A</td>\n      <td>West Ham</td>\n      <td>Man City</td>\n      <td>0</td>\n      <td>5</td>\n      <td>5</td>\n      <td>14</td>\n      <td>3</td>\n      <td>9</td>\n      <td>13.00</td>\n      <td>...</td>\n      <td>1.25</td>\n      <td>11.14</td>\n      <td>6.46</td>\n      <td>1.26</td>\n      <td>1.75</td>\n      <td>2.00</td>\n      <td>1.90</td>\n      <td>1.75</td>\n      <td>1.95</td>\n      <td>1.95</td>\n    </tr>\n  </tbody>\n</table>\n<p>2 rows × 27 columns</p>\n</div>",
      "text/plain": "  FTR   HomeTeam  AwayTeam  FTHG  FTAG  HS  AS  HST  AST    WHH  ...   AvgA  \\\n0   H  Liverpool   Norwich     4     1  15  12    7    5   1.12  ...  19.83   \n1   A   West Ham  Man City     0     5   5  14    3    9  13.00  ...   1.25   \n\n   AvgCH  AvgCD  AvgCA   AHh  B365AHH  B365AHA  AHCh  B365CAHH  B365CAHA  \n0   1.14   9.52  19.18 -2.25     1.96     1.94 -2.25      1.91      1.99  \n1  11.14   6.46   1.26  1.75     2.00     1.90  1.75      1.95      1.95  \n\n[2 rows x 27 columns]"
     },
     "execution_count": 10,
     "metadata": {},
     "output_type": "execute_result"
    }
   ],
   "source": [
    "need_df[:2]"
   ]
  },
  {
   "cell_type": "code",
   "execution_count": 43,
   "metadata": {},
   "outputs": [],
   "source": [
    "def getHomeTeamSummary(team_name, df):\n",
    "    home_df = df[(df['HomeTeam'] == team_name)]\n",
    "    \n",
    "    total_match = len(home_df)\n",
    "    win_match = len(home_df[(home_df['FTR'] == 'H')])\n",
    "    win_ratio = win_match / total_match\n",
    "\n",
    "    draw_match = len(home_df[(home_df['FTR'] == 'D')])\n",
    "    draw_ratio = draw_match / total_match\n",
    "\n",
    "    lose_match = len(home_df[(home_df['FTR'] == 'A')])\n",
    "    lose_ratio = lose_match / total_match\n",
    "    \n",
    "    home_goals = home_df['FTHG'].sum()\n",
    "    home_loss = home_df['FTAG'].sum()\n",
    "\n",
    "    # wh_home_win = home_df[((home_df['WHCH'] < home_df['WHCA']) & (home_df['WHCH'] < home_df['WHCD'])) &  (home_df['TFR'] == 'H')]\n",
    "    # wh_home_win_count = len(wh_home_win)\n",
    "\n",
    "    \n",
    "    return dict(\n",
    "                total_match = total_match, \n",
    "                win_match = win_match, \n",
    "                win_ratio = win_ratio,\n",
    "                draw_match = draw_match,\n",
    "                draw_ratio = draw_ratio,\n",
    "                lose_match = lose_match,\n",
    "                lose_ratio = lose_ratio,\n",
    "                home_goals = home_goals, \n",
    "                home_loss = home_loss,      \n",
    "\n",
    "                )"
   ]
  },
  {
   "cell_type": "code",
   "execution_count": 44,
   "metadata": {},
   "outputs": [],
   "source": [
    "home_summary = getHomeTeamSummary('Liverpool',need_df)\n"
   ]
  },
  {
   "cell_type": "code",
   "execution_count": 45,
   "metadata": {},
   "outputs": [
    {
     "data": {
      "text/plain": "1.0"
     },
     "execution_count": 45,
     "metadata": {},
     "output_type": "execute_result"
    }
   ],
   "source": [
    "home_summary['win_ratio']"
   ]
  },
  {
   "cell_type": "code",
   "execution_count": 46,
   "metadata": {},
   "outputs": [
    {
     "data": {
      "text/plain": "26"
     },
     "execution_count": 46,
     "metadata": {},
     "output_type": "execute_result"
    }
   ],
   "source": [
    "home_summary['home_goals']"
   ]
  },
  {
   "cell_type": "code",
   "execution_count": 47,
   "metadata": {},
   "outputs": [
    {
     "data": {
      "text/plain": "9"
     },
     "execution_count": 47,
     "metadata": {},
     "output_type": "execute_result"
    }
   ],
   "source": [
    "home_summary['home_loss']"
   ]
  },
  {
   "cell_type": "code",
   "execution_count": 34,
   "metadata": {},
   "outputs": [],
   "source": [
    "home_df = need_df[(need_df['HomeTeam'] == 'Liverpool')]"
   ]
  },
  {
   "cell_type": "code",
   "execution_count": 35,
   "metadata": {},
   "outputs": [
    {
     "data": {
      "text/html": "<div>\n<style scoped>\n    .dataframe tbody tr th:only-of-type {\n        vertical-align: middle;\n    }\n\n    .dataframe tbody tr th {\n        vertical-align: top;\n    }\n\n    .dataframe thead th {\n        text-align: right;\n    }\n</style>\n<table border=\"1\" class=\"dataframe\">\n  <thead>\n    <tr style=\"text-align: right;\">\n      <th></th>\n      <th>FTR</th>\n      <th>HomeTeam</th>\n      <th>AwayTeam</th>\n      <th>FTHG</th>\n      <th>FTAG</th>\n      <th>HS</th>\n      <th>AS</th>\n      <th>HST</th>\n      <th>AST</th>\n      <th>WHH</th>\n      <th>...</th>\n      <th>AvgA</th>\n      <th>AvgCH</th>\n      <th>AvgCD</th>\n      <th>AvgCA</th>\n      <th>AHh</th>\n      <th>B365AHH</th>\n      <th>B365AHA</th>\n      <th>AHCh</th>\n      <th>B365CAHH</th>\n      <th>B365CAHA</th>\n    </tr>\n  </thead>\n  <tbody>\n    <tr>\n      <td>0</td>\n      <td>H</td>\n      <td>Liverpool</td>\n      <td>Norwich</td>\n      <td>4</td>\n      <td>1</td>\n      <td>15</td>\n      <td>12</td>\n      <td>7</td>\n      <td>5</td>\n      <td>1.12</td>\n      <td>...</td>\n      <td>19.83</td>\n      <td>1.14</td>\n      <td>9.52</td>\n      <td>19.18</td>\n      <td>-2.25</td>\n      <td>1.96</td>\n      <td>1.94</td>\n      <td>-2.25</td>\n      <td>1.91</td>\n      <td>1.99</td>\n    </tr>\n    <tr>\n      <td>26</td>\n      <td>H</td>\n      <td>Liverpool</td>\n      <td>Arsenal</td>\n      <td>3</td>\n      <td>1</td>\n      <td>25</td>\n      <td>9</td>\n      <td>5</td>\n      <td>3</td>\n      <td>1.47</td>\n      <td>...</td>\n      <td>6.09</td>\n      <td>1.47</td>\n      <td>4.96</td>\n      <td>6.34</td>\n      <td>-1.25</td>\n      <td>2.03</td>\n      <td>1.87</td>\n      <td>-1.25</td>\n      <td>1.96</td>\n      <td>1.94</td>\n    </tr>\n    <tr>\n      <td>40</td>\n      <td>H</td>\n      <td>Liverpool</td>\n      <td>Newcastle</td>\n      <td>3</td>\n      <td>1</td>\n      <td>21</td>\n      <td>8</td>\n      <td>9</td>\n      <td>1</td>\n      <td>1.14</td>\n      <td>...</td>\n      <td>19.45</td>\n      <td>1.20</td>\n      <td>7.31</td>\n      <td>14.15</td>\n      <td>-2.25</td>\n      <td>2.03</td>\n      <td>1.90</td>\n      <td>-1.75</td>\n      <td>1.82</td>\n      <td>1.97</td>\n    </tr>\n    <tr>\n      <td>72</td>\n      <td>H</td>\n      <td>Liverpool</td>\n      <td>Leicester</td>\n      <td>2</td>\n      <td>1</td>\n      <td>18</td>\n      <td>2</td>\n      <td>8</td>\n      <td>1</td>\n      <td>1.44</td>\n      <td>...</td>\n      <td>7.00</td>\n      <td>1.58</td>\n      <td>4.36</td>\n      <td>5.65</td>\n      <td>-1.25</td>\n      <td>2.07</td>\n      <td>1.86</td>\n      <td>-1.00</td>\n      <td>2.03</td>\n      <td>1.90</td>\n    </tr>\n    <tr>\n      <td>98</td>\n      <td>H</td>\n      <td>Liverpool</td>\n      <td>Tottenham</td>\n      <td>2</td>\n      <td>1</td>\n      <td>21</td>\n      <td>11</td>\n      <td>13</td>\n      <td>4</td>\n      <td>1.52</td>\n      <td>...</td>\n      <td>6.11</td>\n      <td>1.48</td>\n      <td>4.80</td>\n      <td>6.44</td>\n      <td>-1.00</td>\n      <td>1.92</td>\n      <td>2.01</td>\n      <td>-1.25</td>\n      <td>2.02</td>\n      <td>1.91</td>\n    </tr>\n    <tr>\n      <td>119</td>\n      <td>H</td>\n      <td>Liverpool</td>\n      <td>Man City</td>\n      <td>3</td>\n      <td>1</td>\n      <td>12</td>\n      <td>18</td>\n      <td>5</td>\n      <td>3</td>\n      <td>2.55</td>\n      <td>...</td>\n      <td>2.68</td>\n      <td>2.69</td>\n      <td>3.64</td>\n      <td>2.55</td>\n      <td>0.00</td>\n      <td>1.90</td>\n      <td>2.03</td>\n      <td>0.00</td>\n      <td>2.02</td>\n      <td>1.91</td>\n    </tr>\n    <tr>\n      <td>133</td>\n      <td>H</td>\n      <td>Liverpool</td>\n      <td>Brighton</td>\n      <td>2</td>\n      <td>1</td>\n      <td>15</td>\n      <td>12</td>\n      <td>7</td>\n      <td>5</td>\n      <td>1.20</td>\n      <td>...</td>\n      <td>14.67</td>\n      <td>1.20</td>\n      <td>7.21</td>\n      <td>14.46</td>\n      <td>-2.00</td>\n      <td>2.02</td>\n      <td>1.77</td>\n      <td>-2.00</td>\n      <td>1.97</td>\n      <td>1.82</td>\n    </tr>\n    <tr>\n      <td>147</td>\n      <td>H</td>\n      <td>Liverpool</td>\n      <td>Everton</td>\n      <td>5</td>\n      <td>2</td>\n      <td>11</td>\n      <td>12</td>\n      <td>5</td>\n      <td>4</td>\n      <td>1.36</td>\n      <td>...</td>\n      <td>8.28</td>\n      <td>1.62</td>\n      <td>4.04</td>\n      <td>5.79</td>\n      <td>-1.25</td>\n      <td>1.91</td>\n      <td>2.02</td>\n      <td>-0.75</td>\n      <td>1.83</td>\n      <td>2.10</td>\n    </tr>\n    <tr>\n      <td>160</td>\n      <td>H</td>\n      <td>Liverpool</td>\n      <td>Watford</td>\n      <td>2</td>\n      <td>0</td>\n      <td>16</td>\n      <td>8</td>\n      <td>6</td>\n      <td>2</td>\n      <td>1.15</td>\n      <td>...</td>\n      <td>16.32</td>\n      <td>1.18</td>\n      <td>7.65</td>\n      <td>15.15</td>\n      <td>-2.00</td>\n      <td>1.86</td>\n      <td>2.04</td>\n      <td>-2.25</td>\n      <td>2.02</td>\n      <td>1.77</td>\n    </tr>\n  </tbody>\n</table>\n<p>9 rows × 27 columns</p>\n</div>",
      "text/plain": "    FTR   HomeTeam   AwayTeam  FTHG  FTAG  HS  AS  HST  AST   WHH  ...   AvgA  \\\n0     H  Liverpool    Norwich     4     1  15  12    7    5  1.12  ...  19.83   \n26    H  Liverpool    Arsenal     3     1  25   9    5    3  1.47  ...   6.09   \n40    H  Liverpool  Newcastle     3     1  21   8    9    1  1.14  ...  19.45   \n72    H  Liverpool  Leicester     2     1  18   2    8    1  1.44  ...   7.00   \n98    H  Liverpool  Tottenham     2     1  21  11   13    4  1.52  ...   6.11   \n119   H  Liverpool   Man City     3     1  12  18    5    3  2.55  ...   2.68   \n133   H  Liverpool   Brighton     2     1  15  12    7    5  1.20  ...  14.67   \n147   H  Liverpool    Everton     5     2  11  12    5    4  1.36  ...   8.28   \n160   H  Liverpool    Watford     2     0  16   8    6    2  1.15  ...  16.32   \n\n     AvgCH  AvgCD  AvgCA   AHh  B365AHH  B365AHA  AHCh  B365CAHH  B365CAHA  \n0     1.14   9.52  19.18 -2.25     1.96     1.94 -2.25      1.91      1.99  \n26    1.47   4.96   6.34 -1.25     2.03     1.87 -1.25      1.96      1.94  \n40    1.20   7.31  14.15 -2.25     2.03     1.90 -1.75      1.82      1.97  \n72    1.58   4.36   5.65 -1.25     2.07     1.86 -1.00      2.03      1.90  \n98    1.48   4.80   6.44 -1.00     1.92     2.01 -1.25      2.02      1.91  \n119   2.69   3.64   2.55  0.00     1.90     2.03  0.00      2.02      1.91  \n133   1.20   7.21  14.46 -2.00     2.02     1.77 -2.00      1.97      1.82  \n147   1.62   4.04   5.79 -1.25     1.91     2.02 -0.75      1.83      2.10  \n160   1.18   7.65  15.15 -2.00     1.86     2.04 -2.25      2.02      1.77  \n\n[9 rows x 27 columns]"
     },
     "execution_count": 35,
     "metadata": {},
     "output_type": "execute_result"
    }
   ],
   "source": [
    "home_df"
   ]
  },
  {
   "cell_type": "code",
   "execution_count": 49,
   "metadata": {},
   "outputs": [
    {
     "data": {
      "text/html": "<div>\n<style scoped>\n    .dataframe tbody tr th:only-of-type {\n        vertical-align: middle;\n    }\n\n    .dataframe tbody tr th {\n        vertical-align: top;\n    }\n\n    .dataframe thead th {\n        text-align: right;\n    }\n</style>\n<table border=\"1\" class=\"dataframe\">\n  <thead>\n    <tr style=\"text-align: right;\">\n      <th></th>\n      <th>FTR</th>\n      <th>HomeTeam</th>\n      <th>AwayTeam</th>\n      <th>FTHG</th>\n      <th>FTAG</th>\n      <th>HS</th>\n      <th>AS</th>\n      <th>HST</th>\n      <th>AST</th>\n      <th>WHH</th>\n      <th>...</th>\n      <th>AvgA</th>\n      <th>AvgCH</th>\n      <th>AvgCD</th>\n      <th>AvgCA</th>\n      <th>AHh</th>\n      <th>B365AHH</th>\n      <th>B365AHA</th>\n      <th>AHCh</th>\n      <th>B365CAHH</th>\n      <th>B365CAHA</th>\n    </tr>\n  </thead>\n  <tbody>\n    <tr>\n      <td>0</td>\n      <td>H</td>\n      <td>Liverpool</td>\n      <td>Norwich</td>\n      <td>4</td>\n      <td>1</td>\n      <td>15</td>\n      <td>12</td>\n      <td>7</td>\n      <td>5</td>\n      <td>1.12</td>\n      <td>...</td>\n      <td>19.83</td>\n      <td>1.14</td>\n      <td>9.52</td>\n      <td>19.18</td>\n      <td>-2.25</td>\n      <td>1.96</td>\n      <td>1.94</td>\n      <td>-2.25</td>\n      <td>1.91</td>\n      <td>1.99</td>\n    </tr>\n    <tr>\n      <td>26</td>\n      <td>H</td>\n      <td>Liverpool</td>\n      <td>Arsenal</td>\n      <td>3</td>\n      <td>1</td>\n      <td>25</td>\n      <td>9</td>\n      <td>5</td>\n      <td>3</td>\n      <td>1.47</td>\n      <td>...</td>\n      <td>6.09</td>\n      <td>1.47</td>\n      <td>4.96</td>\n      <td>6.34</td>\n      <td>-1.25</td>\n      <td>2.03</td>\n      <td>1.87</td>\n      <td>-1.25</td>\n      <td>1.96</td>\n      <td>1.94</td>\n    </tr>\n    <tr>\n      <td>40</td>\n      <td>H</td>\n      <td>Liverpool</td>\n      <td>Newcastle</td>\n      <td>3</td>\n      <td>1</td>\n      <td>21</td>\n      <td>8</td>\n      <td>9</td>\n      <td>1</td>\n      <td>1.14</td>\n      <td>...</td>\n      <td>19.45</td>\n      <td>1.20</td>\n      <td>7.31</td>\n      <td>14.15</td>\n      <td>-2.25</td>\n      <td>2.03</td>\n      <td>1.90</td>\n      <td>-1.75</td>\n      <td>1.82</td>\n      <td>1.97</td>\n    </tr>\n    <tr>\n      <td>72</td>\n      <td>H</td>\n      <td>Liverpool</td>\n      <td>Leicester</td>\n      <td>2</td>\n      <td>1</td>\n      <td>18</td>\n      <td>2</td>\n      <td>8</td>\n      <td>1</td>\n      <td>1.44</td>\n      <td>...</td>\n      <td>7.00</td>\n      <td>1.58</td>\n      <td>4.36</td>\n      <td>5.65</td>\n      <td>-1.25</td>\n      <td>2.07</td>\n      <td>1.86</td>\n      <td>-1.00</td>\n      <td>2.03</td>\n      <td>1.90</td>\n    </tr>\n    <tr>\n      <td>98</td>\n      <td>H</td>\n      <td>Liverpool</td>\n      <td>Tottenham</td>\n      <td>2</td>\n      <td>1</td>\n      <td>21</td>\n      <td>11</td>\n      <td>13</td>\n      <td>4</td>\n      <td>1.52</td>\n      <td>...</td>\n      <td>6.11</td>\n      <td>1.48</td>\n      <td>4.80</td>\n      <td>6.44</td>\n      <td>-1.00</td>\n      <td>1.92</td>\n      <td>2.01</td>\n      <td>-1.25</td>\n      <td>2.02</td>\n      <td>1.91</td>\n    </tr>\n    <tr>\n      <td>119</td>\n      <td>H</td>\n      <td>Liverpool</td>\n      <td>Man City</td>\n      <td>3</td>\n      <td>1</td>\n      <td>12</td>\n      <td>18</td>\n      <td>5</td>\n      <td>3</td>\n      <td>2.55</td>\n      <td>...</td>\n      <td>2.68</td>\n      <td>2.69</td>\n      <td>3.64</td>\n      <td>2.55</td>\n      <td>0.00</td>\n      <td>1.90</td>\n      <td>2.03</td>\n      <td>0.00</td>\n      <td>2.02</td>\n      <td>1.91</td>\n    </tr>\n    <tr>\n      <td>133</td>\n      <td>H</td>\n      <td>Liverpool</td>\n      <td>Brighton</td>\n      <td>2</td>\n      <td>1</td>\n      <td>15</td>\n      <td>12</td>\n      <td>7</td>\n      <td>5</td>\n      <td>1.20</td>\n      <td>...</td>\n      <td>14.67</td>\n      <td>1.20</td>\n      <td>7.21</td>\n      <td>14.46</td>\n      <td>-2.00</td>\n      <td>2.02</td>\n      <td>1.77</td>\n      <td>-2.00</td>\n      <td>1.97</td>\n      <td>1.82</td>\n    </tr>\n    <tr>\n      <td>147</td>\n      <td>H</td>\n      <td>Liverpool</td>\n      <td>Everton</td>\n      <td>5</td>\n      <td>2</td>\n      <td>11</td>\n      <td>12</td>\n      <td>5</td>\n      <td>4</td>\n      <td>1.36</td>\n      <td>...</td>\n      <td>8.28</td>\n      <td>1.62</td>\n      <td>4.04</td>\n      <td>5.79</td>\n      <td>-1.25</td>\n      <td>1.91</td>\n      <td>2.02</td>\n      <td>-0.75</td>\n      <td>1.83</td>\n      <td>2.10</td>\n    </tr>\n    <tr>\n      <td>160</td>\n      <td>H</td>\n      <td>Liverpool</td>\n      <td>Watford</td>\n      <td>2</td>\n      <td>0</td>\n      <td>16</td>\n      <td>8</td>\n      <td>6</td>\n      <td>2</td>\n      <td>1.15</td>\n      <td>...</td>\n      <td>16.32</td>\n      <td>1.18</td>\n      <td>7.65</td>\n      <td>15.15</td>\n      <td>-2.00</td>\n      <td>1.86</td>\n      <td>2.04</td>\n      <td>-2.25</td>\n      <td>2.02</td>\n      <td>1.77</td>\n    </tr>\n  </tbody>\n</table>\n<p>9 rows × 27 columns</p>\n</div>",
      "text/plain": "    FTR   HomeTeam   AwayTeam  FTHG  FTAG  HS  AS  HST  AST   WHH  ...   AvgA  \\\n0     H  Liverpool    Norwich     4     1  15  12    7    5  1.12  ...  19.83   \n26    H  Liverpool    Arsenal     3     1  25   9    5    3  1.47  ...   6.09   \n40    H  Liverpool  Newcastle     3     1  21   8    9    1  1.14  ...  19.45   \n72    H  Liverpool  Leicester     2     1  18   2    8    1  1.44  ...   7.00   \n98    H  Liverpool  Tottenham     2     1  21  11   13    4  1.52  ...   6.11   \n119   H  Liverpool   Man City     3     1  12  18    5    3  2.55  ...   2.68   \n133   H  Liverpool   Brighton     2     1  15  12    7    5  1.20  ...  14.67   \n147   H  Liverpool    Everton     5     2  11  12    5    4  1.36  ...   8.28   \n160   H  Liverpool    Watford     2     0  16   8    6    2  1.15  ...  16.32   \n\n     AvgCH  AvgCD  AvgCA   AHh  B365AHH  B365AHA  AHCh  B365CAHH  B365CAHA  \n0     1.14   9.52  19.18 -2.25     1.96     1.94 -2.25      1.91      1.99  \n26    1.47   4.96   6.34 -1.25     2.03     1.87 -1.25      1.96      1.94  \n40    1.20   7.31  14.15 -2.25     2.03     1.90 -1.75      1.82      1.97  \n72    1.58   4.36   5.65 -1.25     2.07     1.86 -1.00      2.03      1.90  \n98    1.48   4.80   6.44 -1.00     1.92     2.01 -1.25      2.02      1.91  \n119   2.69   3.64   2.55  0.00     1.90     2.03  0.00      2.02      1.91  \n133   1.20   7.21  14.46 -2.00     2.02     1.77 -2.00      1.97      1.82  \n147   1.62   4.04   5.79 -1.25     1.91     2.02 -0.75      1.83      2.10  \n160   1.18   7.65  15.15 -2.00     1.86     2.04 -2.25      2.02      1.77  \n\n[9 rows x 27 columns]"
     },
     "execution_count": 49,
     "metadata": {},
     "output_type": "execute_result"
    }
   ],
   "source": [
    "home_df[((home_df['WHCH'] < home_df['WHCA']) & (home_df['WHCH'] < home_df['WHCD'])) &  (home_df['FTR'] == 'H') ]"
   ]
  },
  {
   "cell_type": "code",
   "execution_count": 56,
   "metadata": {},
   "outputs": [],
   "source": [
    "def getAwayTeamSummary(team_name, df):\n",
    "    away_df = df[(df['AwayTeam'] == team_name)]\n",
    "    \n",
    "    total_match = len(away_df)\n",
    "    win_match = len(away_df[(away_df['FTR'] == 'A')])\n",
    "    win_ratio = win_match / total_match\n",
    "\n",
    "    draw_match = len(away_df[(away_df['FTR'] == 'D')])\n",
    "    draw_ratio = draw_match / total_match\n",
    "\n",
    "    lose_match = len(away_df[(away_df['FTR'] == 'H')])\n",
    "    lose_ratio = lose_match / total_match\n",
    "    \n",
    "    away_goals = away_df['FTAG'].sum()\n",
    "    away_loss = away_df['FTHG'].sum()\n",
    "\n",
    "    # wh_home_win = home_df[((home_df['WHCH'] < home_df['WHCA']) & (home_df['WHCH'] < home_df['WHCD'])) &  (home_df['TFR'] == 'H')]\n",
    "    # wh_home_win_count = len(wh_home_win)\n",
    "\n",
    "    \n",
    "    return dict(\n",
    "                total_match = total_match, \n",
    "                win_match = win_match, \n",
    "                win_ratio = win_ratio,\n",
    "                draw_match = draw_match,\n",
    "                draw_ratio = draw_ratio,\n",
    "                lose_match = lose_match,\n",
    "                lose_ratio = lose_ratio,\n",
    "                away_goals = away_goals, \n",
    "                away_loss = away_loss,      \n",
    "\n",
    "                )"
   ]
  },
  {
   "cell_type": "code",
   "execution_count": 57,
   "metadata": {},
   "outputs": [],
   "source": [
    "away_summary = getAwayTeamSummary('Liverpool',need_df)"
   ]
  },
  {
   "cell_type": "code",
   "execution_count": 58,
   "metadata": {},
   "outputs": [
    {
     "data": {
      "text/plain": "{'total_match': 8,\n 'win_match': 7,\n 'win_ratio': 0.875,\n 'draw_match': 1,\n 'draw_ratio': 0.125,\n 'lose_match': 0,\n 'lose_ratio': 0.0,\n 'away_goals': 16,\n 'away_loss': 5}"
     },
     "execution_count": 58,
     "metadata": {},
     "output_type": "execute_result"
    }
   ],
   "source": [
    "away_summary"
   ]
  },
  {
   "cell_type": "code",
   "execution_count": null,
   "metadata": {},
   "outputs": [],
   "source": []
  }
 ]
}